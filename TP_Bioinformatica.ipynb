{
  "cells": [
    {
      "cell_type": "markdown",
      "source": [
        "## Ejercicio 1\n"
      ],
      "metadata": {
        "id": "bVfVKgxO7RZ_"
      }
    },
    {
      "cell_type": "markdown",
      "source": [
        "- Gen SP4: https://www.omim.org/geneMap/7/105?start=-3&limit=10&highlight=105\n",
        "- https://www.ncbi.nlm.nih.gov/nuccore/NM_001326542.2"
      ],
      "metadata": {
        "id": "M5ZvSBmV7UpT"
      }
    },
    {
      "cell_type": "code",
      "source": [
        "# Instalo requerimientos\n",
        "!pip install Biopython"
      ],
      "metadata": {
        "colab": {
          "base_uri": "https://localhost:8080/"
        },
        "id": "lked2CTy7JZP",
        "outputId": "37f160b5-07ad-41d9-ffda-1e9bc3192543"
      },
      "execution_count": 1,
      "outputs": [
        {
          "output_type": "stream",
          "name": "stdout",
          "text": [
            "Collecting Biopython\n",
            "  Downloading biopython-1.83-cp310-cp310-manylinux_2_17_x86_64.manylinux2014_x86_64.whl (3.1 MB)\n",
            "\u001b[2K     \u001b[90m━━━━━━━━━━━━━━━━━━━━━━━━━━━━━━━━━━━━━━━━\u001b[0m \u001b[32m3.1/3.1 MB\u001b[0m \u001b[31m11.9 MB/s\u001b[0m eta \u001b[36m0:00:00\u001b[0m\n",
            "\u001b[?25hRequirement already satisfied: numpy in /usr/local/lib/python3.10/dist-packages (from Biopython) (1.25.2)\n",
            "Installing collected packages: Biopython\n",
            "Successfully installed Biopython-1.83\n"
          ]
        }
      ]
    },
    {
      "cell_type": "code",
      "source": [
        "from google.colab import drive\n",
        "\n",
        "# Montar el Google Drive compartido automáticamente\n",
        "drive.mount('/content/drive', force_remount=True)"
      ],
      "metadata": {
        "colab": {
          "base_uri": "https://localhost:8080/"
        },
        "id": "a6HHPtd57ZeI",
        "outputId": "44de4d4e-943a-4ac0-c4c4-8f2f4c9888db"
      },
      "execution_count": 2,
      "outputs": [
        {
          "output_type": "stream",
          "name": "stdout",
          "text": [
            "Mounted at /content/drive\n"
          ]
        }
      ]
    },
    {
      "cell_type": "code",
      "source": [
        "# Esto es apra verificar que tienen montado en el dir. Fijense bien aca, capaz tengan que crear algu acceso directo a la carpeta compartida de Bioinformatica desde drive\n",
        "\n",
        "import os\n",
        "\n",
        "# Especifica la ruta al directorio que deseas listar\n",
        "ruta_directorio = \"/content/drive/My Drive/Bioinformatica/\"\n",
        "\n",
        "# Lista los archivos en el directorio especificado\n",
        "archivos_en_directorio = os.listdir(ruta_directorio)\n",
        "\n",
        "# Imprime la lista de archivos\n",
        "print(\"Archivos en el directorio:\")\n",
        "for archivo in archivos_en_directorio:\n",
        "    print(archivo)"
      ],
      "metadata": {
        "colab": {
          "base_uri": "https://localhost:8080/"
        },
        "id": "TRUaXfiM7s0u",
        "outputId": "896b9448-8642-4c2d-e71b-6624f32c7831"
      },
      "execution_count": 3,
      "outputs": [
        {
          "output_type": "stream",
          "name": "stdout",
          "text": [
            "Archivos en el directorio:\n",
            "sequence.gb\n",
            "Blast_outs\n",
            "bioinnformatica.ipynb\n",
            "TP Bioinformatica.ipynb\n"
          ]
        }
      ]
    },
    {
      "cell_type": "code",
      "source": [
        "# Defino ruta de archivo genbank\n",
        "\n",
        "archivo_genbank = \"/content/drive/My Drive/Bioinformatica/\" + \"sequence.gb\""
      ],
      "metadata": {
        "id": "UA7FMTmI7vfQ"
      },
      "execution_count": 9,
      "outputs": []
    },
    {
      "cell_type": "code",
      "execution_count": 10,
      "metadata": {
        "colab": {
          "base_uri": "https://localhost:8080/"
        },
        "id": "JBzM6d5O7Aq0",
        "outputId": "e8b4166f-6dbb-4c6e-8e1c-6f6c6bb8bc85"
      },
      "outputs": [
        {
          "output_type": "stream",
          "name": "stdout",
          "text": [
            "Secuencia de aminoácidos frame 1: TAQRRPFAEKEAEPVPATASSEPPRAGGTGLSSRLAPTPTHLYPSVSV*GFVLLMRDERRRRRRRRRQRQRRWLQKEGKPLSQRITIKNPKPQAPRTLSPLLWLYWQLLAAK*GLLVKIKQLDNNKLL*IQVKDWCNFKINHNS*NW*QRNLLETLGNLLPPLLLLQKRITFLNQPLVRLVLPAVITGVHLLQKLNQVILPPLVNFKSYKYKIQVVVYSTK*FHNFRQWKVNKFKSIQLVVHLYRICRVKFSSFLQVIIKLYSQLLTGQLLGIFLLKTWQIRQFRSKLDLVFQYHCSYRLFLVLRLKL*QPYQLTLEE*L*LCQ**TTWLPEEGLGRLASLLLLLIVGLPMGIN*FPHPPTPLLLPVLCQNLPPPPLPAQPLLQRL*QAVTH**AQQILASMQAHQPVVLNAPLKNLKHLLLLSLKPRAPVSFSLMECRMHRINQILFSRCKL*ANLSYSRSRSNSLSNRSFRLFHHSRFNSSQGRRFRPSSSSLYRMFNFKQ*IRLRCLSGLQL*HLQGKSVGKLYRFRIFRVFQICKFRMLGYPNN*PSPQCLQVVAQLLLRLLLWLLLVPQ*L*ILPSLHQCLTFRQ*ALPTWVLQVFKCREFPLQSLVLQVSSKDKME*KSSKLL*LL*L*QLEELLMPR*VLLVLTNSHKCICSKASRLLIKRYNLARGFEELPVPVLIVGKEKEEAVMNQEKRSSISVILKDVVKFMAKHLIYEHIFAGILEKDLLYATGCFVAKDSHGVMSSRDIEEPIQVKRDLNARNVLKGLCGVIISPNMSKRTRIKKVVGQLLPLLPRENWTHLLQRCLAPQELSQLQPFLKIRIQQLPMFQPTWKNSEKLFITETSSAALVYTPLKIWKWAGQVDYRVGNYVFILGFFKYSRVWGQHVKC*ILKNTKSRLMYWKQKSISSIL*VVVVWKYIT*PLYRIFPSLNIMC*HV*KDLSSLQAGP*LDLFSLKVLCYKFSQ**FTCILFLYSTENR*LTDDRDNTVFP*LDFWKINRK*FGRLF*MLEILQQLN*VSSKTVI*DASQIFITTTL**CVCRQSVKSNYFLHLETQEEHRVKS*VKF*VDTLGKCWEKNG*NKTHHSFRKIK*GILTCNVLKLGLIIFLTLG*TTKFHLKCLYLEIFA*SVNCSVVSYFVNMSYVDNVQNSLCFDVVAKERITLFSKASRKFSFNYIVILVFLY*KLASPILFLVLCKKVIRNYNTVMFLCYINN*IFPKN*PNI**IYYEAKLLFLKRQNNFQ*SK*LKKKTILLFMQGSYRKGSFFFFF*DGVSLSCPGWSAMARSQLTATAASQVQAILLS*PPE*LGLTGACHHAWLIFVFLVETGFRHVGQAGFKLLTSGDLPTSASQSAGITGMSHHARLGKGLTRKDGQKFHMKKIGL*TSNLNINKDILCFKKVFTQNHNQ*N*PFEN*KFLPTCSIY*HHCFGDCLNIGTCFLVHSL*FQEKY*CEFSSKIVMFLVFLMKEKYCNDHCLHYVHFRPALCSVI*N*RSFVLSVCIKKL*D*RKKKIFTLWL*ISSFLKLL*TCNRVFKFKLDFVNCFVYFI*CTLNN*CIWL*NIRIGLLFCLVQRSIW*CSF*FYYIGAETSNIYFIYHYATQSVL*IFLCKETFLMF*SCFLRVTLFVVVNTKYEHSASLFHEPVLMQTYVCPLEMEVIF*STMRPIINLSDESR*LYSI*NMLICVSRCTFHH*N*KYFDSLFCIPF*VYFSVFRRIVNFSVLYLTQWDIAVISNRAQMCSRVLFNGISLFIPFTTVIKLFFIVIISAKLCIYHGKTPVLE*FFLTVYFLWLGLCMCC*LH*NLMLSHLSHSHESSNKSV*SRRKS*FVKLR*A*CLGPIFQFYNCFIATIFVFKSPF*CLVVFFYACH*VVIPHKLMCSIGY*IYIMILKQK*LMVKCKCFAKIPYKKFCSNISLVNFFCKKKKMKKKDESRKKPVSHILEFRQLFCQQSLWGCN*HFYSADLYKICFLWIWK*NHVQVVACNNNCK*PIKNSLEFNMFHLIMYTIKQQ*II*TINL\n",
            "Secuencia de aminoácidos frame 2: QPSGGHSRKKRQSLCQLQPPPSHRGRAGPASPPASPPPPPTSIPVSPSEGLSC*CGMSEEGGGGGGGSGSGDGYRRRENL*ARE*Q*KTQNLRLPGLSALSSGFTGSYLQQNRDSW*KSSNWTTTNYYRSKSRIGATSKSTTTARTGNNATCWKRLATCCLHSSCFKRE*RFSTSL*FV*FFQQ**RECISYKN*IR*FFHPWSISSHTSTKSKW*CTVPSNSTTSDSGRSTNSNQSN**FISTGFAGSNSAHFCR**SSYTHSC*QDSFWEYSCSKPGKSDSSGPN*TWCFNTTAVTDSSWYSGSSCNNPTN*HWRSDSSFASDKQRGCRRRDWAGWPACCYC**WDFQWESISFHTHQHHYFCQYYARISLLLHYLHNHCFNVFDKQ*HISELSRYWPVCKHISQ*F*THH*RISNTCCY*V*SPELQSASA*WNAECTGSIKFSSAGANCRPTYLTADPDPTASATDHSGYSTTVVSTPVRADDSDHPAAAFTECSTSSSKSDSGAYQGSNFNTFRANQLANCTGSEYSESFKFASSECWVIPTINHHPSVFKWWHNSCSDCSCGCCWCPNNFEYCPACISA*PSDSERCQPGCCRCSSAGSSRYNH*CCRSAARTRWSKSPASYYSSCNCSSWRNC*CHDRCC*S*PTHTSAFAARPADF*SRGTTWQEASKSCLFLS*L*GRRRKRQ**TRKKEAAYLSY*RMW*SLWQNISFTSTSSLAYWRKTFYMQLDVLWQKIHTE**APET*KNPYR*KEI*MPGMF*KVYAE*SSLQTCQNAPE*KRWWDSSCHCYLGRTGLICYRGAWLPKNCHSCSHFSRFESSNSQCFNQHGRILKSYL*QRPLVLHLFTHL*KSGNGLVKWITE*EIMFSFLASLSIPGFGVNT*SVEF*KIQKAD*CTGNRKVFPPYYKL*LFGNISHNLYTESSHLLISCVNMFKKTLVVCRLDLNWTYFL*KYFVINSVSNNLRVFFFSIAQKTDS*LMIGIILYFLSLIFGKSTENSLAVFSKC*KFFNS*IR*VPKQ*SEMHLRSLLPLHYSSVYADNQ*SPITFSIWRHKRNIELNLRLNFRLTP*ENAGKKMVKTKLIIASEK*NEAS*HAMF*S*D*LYS*P*VEPQNFI*NVYIWKYLHRV*IVL*FHIL*I*VMLTMCRILYALMW*PKKELHFFPRPAENSLLTTL*FLFSSTKNWPVPFYF*CYVRR*LGIITQ*CFYVTSITEFSLKISLIYNRYIMKQNFYF*KGRIIFSEVSD*RKKLYYCLCKGLTGKGLFFFFFEMESRSLAQAGVQWHDLSLLQPPPPRFKRFSCLSLLSSWD*QAPATMPG*FLYF**RQGFAMLARLVSNS*PQVICPPRPPRVLGLQA*ATMPG*ERVLLGKMAKSFI*KKLDYKPVT*ILIRIFYVLKKYLHRIIISEIDHLKTKSFYLPAQFINIIALGTV*I*VRVFLCILYNFRKSTNANSLPKL*CFLYF**RRNTVMITVYTMYTLGQPFVALYKTEGLLCFQFV*KSFEIKGKKKFLHCGYKFQVS*SFCRLVTESLNLSWIL*IVLYILFNVLLTTDVSGFKTSELVCCFVWYRGAFGSVHFNFII*ELKHQIYILSIIMLHNQCYKFFYAKKLS*CFNHVSSE*HFLLLLIPSMNTLHHYSMNQF*CKPMYVH*KWKLFFNQQ*GLL*IYQMNLDSFIAYKIC*FVLAGAHFTTEIRNILTVCSAYHSESTFLSLEES*ISVSFI*LSGI*LL*VIGHRCAVESCLMAFHCSFPLPPL*NFSLL*LSVQSYVFIMVKLQC*NSFFLQYTFFG*VCVCVADYIRT*C*VIYHTLMRAVIKVCNLGEKVNLSNLDKHDV*VLFFNFITVLLQQYLYLSLHFNALWCFFMHVTKLSSHIN*CAA*GIKST**F*NRNS*W*NVNVLQKFLIKSFVVTFHL*IFFVKKKK*KKKMNPEKNLFPIF*NLDNYSASKASGAVIDIFTVLICIKFVFCGFGNKIMYKLLPAITIASNLLKIPLSLTCFI*LCIL*SSNKLFELST\n",
            "Secuencia de aminoácidos frame 3: SPAAAIRGKRGRACASYSLLRATAGGRDRPLLPPRPHPHPPLSQCLRLRVCPVNAG*AKKEEEEEAAAAAAMATEGGKTSEPENNNKKPKTSGSQDSQPSPLALLAATCSKIGTPGENQATGQQQIIIDPSQGLVQLQNQPQQLELVTTQLAGNAWQLVASTPPASKENNVSQPASSSSSSSSSNNGSASPTKTKSGNSSTPGQFQVIQVQNPSGSVQYQVIPQLQTVEGQQIQINPTSSSSLQDLQGQIQLISAGNNQAILTAANRTASGNILAQNLANQTVPVQIRPGVSIPLQLQTLPGTQAQVVTTLPINIGGVTLALPVINNVAAGGGTGQVGQPAATADSGTSNGNQLVSTPTNTTTSASTMPESPSSSTTCTTTASTSLTSSDTLVSSADTGQYASTSASSSERTIEESQTPAATESEAQSSSQLQPNGMQNAQDQSNSLQQVQIVGQPILQQIQIQQPQQQIIQAIPPQSFQLQSGQTIQTIQQQPLQNVQLQAVNPTQVLIRAPTLTPSGQISWQTVQVQNIQSLSNLQVQNAGLSQQLTITPVSSSGGTTLAQIAPVAVAGAPITLNTAQLASVPNLQTVSVANLGAAGVQVQGVPVTITSVAGQQQGQDGVKVQQATIAPVTVAVGGIANATIGAVSPDQLTQVHLQQGQQTSDQEVQPGKRLRRVACSCPNCREGEGRGSNEPGKKKQHICHIEGCGKVYGKTSHLRAHLRWHTGERPFICNWMFCGKRFTRSDELQRHRRTHTGEKRFECPECSKRFMRSDHLSKHVKTHQNKKGGGTALAIVTSGELDSSVTEVLGSPRIVTVAAISQDSNPATPNVSTNMEEF*KVIYNRDL*CCTCLHTFENLEMGWSSGLQSRKLCFHSWLL*VFQGLGSTREVLNFKKYKKQTDVLETEKYFLHTISCSCLEIYHITFIQNLPIS*YHVLTCLKRP**FAGWTLIGLIFFESTLL*IQSVIIYVYSFSL*HRKQIVN***G*YCISLA*FLENQPKIVWPSFLNVRNSSTVELGKFQNSNLRCISDLYYHYIIVVCMQTISEVQLLSPFGDTRGT*S*ILG*ILG*HLRKMLGKKWLKQNSS*LQKNKMRHLNMQCSKVRIDYIPNPRLNHKISFKMFIFGNICIECKLFCSFIFCKYELC*QCAEFFML*CGSQRKNYTFFQGQQKILF*LHCNSCFPLLKIGQSHFISSAM*EGN*EL*HSNVFMLHQ*LNFP*KLA*YIIDIL*SKTFIFEKAE*FSVK*VTKEKNYIIVYARVLQERVFFFFFLRWSLALLPRLECNGTISAYCNRRLPGSSDSPVLAS*VAGINRRLPPCLANFCIFSRDRVSPCWPGWFQTPDLR*SAHLGLPECWDYRHEPPCPARKGSY*ERWPKVSYEKNWIINQ*LKY**GYFMF*KSIYTES*SVKLTI*KLKVFTYLLNLLTSLLWGLFEYRYVFSCAFSIISGKVLMRILFQNCDVSCIFDEGEIL**SLFTLCTL*ASPL*RYIKLKVFCAFSLYKKALRLKEKKNFYTVVINFKFLKAFVDL*QSL*I*VGFCKLFCIFYLMYS*QLMYLALKHQNWFVVLFGTEEHLVVFILILLYRS*NIKYIFYLSLCYTISAINFFMQRNFLNVLIMFPQSDTFCCC*YQV*TLCIIIP*TSSNANLCMSIRNGSYFLINNEAYYKFIR*I*IAL*HIKYVNLC*QVHISPLKLEIF*QSVLHTILSLLFCL*KNRKFQCPLFDSVGYSCYK**GTDVQ*SLV*WHFTVHSLYHRYKTFLYCNYQCKAMYLSW*NSSVRIVFSYSILSLVRFVYVLLITLELDVKSFITLS*EQ**KCVI*EKKLICQT*ISMMFRSYFSIL*LFYCNNICI*VSILMPCGVFLCMSLSCHPT*IDVQHRVLNLHNDFKTEIVDGKM*MFCKNSL*KVL**HFTCKFFL*KKKNEKKR*IQKKTCFPYSRI*TIILPAKPLGL*LTFLQC*FV*NLFFVDLEIKSCTSCCLQ*QLQVTY*KFP*V*HVSFNYVYYKAAINYLNYQP\n",
            "Secuencia de aminoácidos frame -1: *VDSSNNLLLLYSIHN*MKHVKLKGIFNRLLAIVIAGNNLYMILFPNPQKTNFIQISTVKMSITAPEALLAE*LSKF*NMGNRFFSGFIFFFHFFFFTKKIYK*NVTTKLFIRNFCKTFTFYHQLFLF*NHYVDLIPYAAHQFMWDDNLVTCIKKHHKALKWRLKYKYCCNKTVIKLKNRT*TSCLSKFDKLTFSPRLHTFITALMRV**MT*HQVLM*SATHTQT*PKKVYCKKKLF*HWSFTMINT*LCTDNYNKEKFYNGGKGNEQ*NAIKQDSTAHLCPITYNSYIPLSQIKDTEIYDSSKDRKVDSEWYAEQTVKIFLISVVKCAPANTN*HILYAIKLSRFI**IYNRPHC*LKNNFHF*WTYIGLH*NWFME**CRVFILGINNNKKCHSEET*LKH*ESFFA*KNL*H*LCSIMIDKIYI*CFSSYIIKLK*TLPNAPLYQTKQQTNSDVLKPDTSVVKSTLNKIYKTIYKIQLKFKDSVTSLQKL*ET*NL*PQCKNFFFPLISKLFYTN*KHKRPSVLYNATKGWPKVYIV*TVIITVFLLHQKYKKHHNFGREFALVLFLKL*RMHKKTRTYIQTVPKAMMLIN*AGR*KLLVFKWSISLIMILCKYFFKT*NILINI*VTGL*SNFFHMKLLAIFPSKTLS*PGMVAHACNPSTLGGRGGQIT*GQEFETSLANMAKPCLY*KYKN*PGMVAGAC*SQLLRRLRQENRLNLGGGGCSKLRSCHCTPAWARERDSISKKKKKRPFPVRPLHKQ*YSFFL*SLTSLKIILPFQK*KFCFIIYLLYIRLIFRENSVIDVT*KHYCVIIPNYLLT*H*K*NGTGQFLVEENKNYNVVKREFSAGLGKKCNSFFGYHIKA*RILHIVNITHIYKI*NYRTIYTLCKYFQI*TF*MKFCGST*G*EYNQS*L*NIAC*DASFYFSEAMMSFVLTIFFPAFS*GVNLKFNLRFNSMFLLCLQMEKVIGLH*LSAYTLL*CSGNKDLRCISDYCFGTYLIQLLKNF*HLEKTAKLFSVDFPKIKLRKYSIIPIIS*LSVFCAIEKKNTRKLLLTEFITKYFQRK*VQLRSSLQTTKVFLNMLTHDIKRWEDSV*RLCDIFPNNYNL*YGGNTFLFPVHQSAFCIF*NSTLHVLTPNPGILKEAKNENIISYSVIHLTSPFPDFQRCVNKCSTRGLCYK*LFRILPCWLKHWELLDSNLEKWLQL*QFLGSQAPL*QMSPVLPR*QWQELSHHLFYSGAF*HVWRDDHSA*TF*NIPGIQISFHLYGFFYVSGAHHSV*IFCHKTSSCI*KVFLQYASEDVLVNEMFCHKLYHILQYDRYAASFFLVHYCLFLLLPYN*DRNRQLFEASCQVVPLDQKSAGLAANALV*VGQD*QHLSWH*QFLQLLQLQEL**LAGLLLHLVLAADLQH**L*RELPALEHLQHPGWQRSLSEG*ALMQAGQYSKLLGHQQQPQEQSEQELCHHLKTLG*WLIVGITQHSELANLKDSEYSEPVQFAN*FALKVLKLEP**APESDLLLEVEHSVKAAAGWSESSALTGVETTVVE*PE*SVAEAVGSGSAVR*VGLQFAPAEENLIDPVHSAFH*AEADWSSGLQTQ*QQVFEILQWCVQNYWLMCLHTGQYLLSSLMCHCLSKTLKQWLCR*WRRREILA*YWQK*WCWWVWKLIDSHWKSHYQQ*QQAGQPAQSLLRQPRCLSLAKLESLLQC*LVGLLQLEPEYQEESVTAVVLKHQV*FGPELSDLPGFEQEYSQKLSC*QL*V*LDYYLQK*AEFDPANPVEMNY*LD*FEFVDLPLSEVVELLGTVHYHLDFVLV*LEIDQGWKNYLI*FL*EMHSRYYCWKN*TN*RLVEKRYSLLKQEEWRQQVAKRFQQVALLPVLAVVVDFEVAPILDLDL**FVVVQLLDFHQESLFCCK*LPVKPEERAESPGSLRFWVFYCYSLAQRFSLLL*PSPLPLPPPPPPPSSLIPH*QDKPSDGDTGIEVGGGGGEAGGEAGPARPRWLGGGCSWHRLCLFFREWPPLGC\n",
            "Secuencia de aminoácidos frame -2: RLIVQIIYCCFIVYIIK*NMLNSREFLIGYLQLLLQATTCT*FYFQIHKKQILYKSAL*KCQLQPQRLCWQNNCLNSRIWETGFFLDSSFFFIFFFLQKKFTSEMLLQNFL*GIFAKHLHFTINYFCFKIIM*I*YPMLHINLCGMTT**HA*KNTTRH*NGDLNTNIVAIKQL*N*KIGPKHHAYLSLTN*LFLLDYTLLLLLS*ECDK*LNIKF*CNQQHIHKPNQRKYTVRKNYSNTGVLP**IHSFALIITIKKSFITVVKGMNSEMPLNKTLLHICALLLITAISH*VK*RTLKFTILLKTEK*TQNGMQNRLSKYF*FQW*NVHLLTQINIFYML*SYLDSSDKFIIGLIVD*KITSISNGHT*VCIRTGSWNNDAECSYLVLTTTKSVTLRKHD*NIKKVSLHKKIYSTDCVA***IKYIFDVSAPI**N*NEHYQMLLCTKQNNKPILMF*SQIHQLLRVH*IKYTKQFTKSNLNLKTLLQVYKSFKKLEIYNHSVKIFFFL*SQSFFIQTESTKDLQFYITLQRAGLKCT*CKQ*SLQYFSFIKNTRNITILEENSH*YFS*NYRECTRKHVPIFKQSPKQ*C**IEQVGKNF*FSNGQFH*L*FCVNTFLKHKISLLIFKLLVYNPIFFI*NFWPSFLVRPFPSRAWWLMPVIPALWEAEVGRSPEVRSLKPAWPTWRNPVSTKNTKISQAWWQAPVNPSYSGG*DRRIA*TWEAAVAVS*DRAIALQPGQESETPSQKKKKKDPFL*DPCINNNIVFFFSHLLH*KLFCLFKNKSFAS*YIYYILG*FLGKIQLLM*HKNITVL*FLITFLHSTRNKMGLANF**RKTRITM*LKENFLLALEKSVILSLATTSKHKEFCTLST*LIFTKYETTEQFTLYANISKYKHFK*NFVVQPRVRNIINPNFRTLHVKMPHFIFLKL**VLF*PFFSQHFPKVST*NLT*DLTLCSSCVSKWRK*LDFTDCLHTHYYNVVVIKI*DASQITVLELT*FNC*RISNI*KRRPNYFRLIFQKSS*GNTVLSLSSVNYLFSVL*RKRIHVNYY*LNL*QSTFKENKSN*GPACKLLRSF*TC*HMILRDGKILYKGYVIYFQTTTTYSMEEILFCFQYISLLFVFFKIQHFTC*PQTLEYLKKPRMKT*FPTL*ST*PAHFQIFKGV*TSAALEVSVINNFSEFFHVG*NIGSCWIRILRNGCNCDNSWGAKHLCNR*VQFSRGNNGKSCPTTFFILVRFDMFGEMITPHKPFRTFRAFKSLFTCMGSSMSLELITPCESFATKHPVAYKRSFSSMPAKMCS*MRCFAINFTTSFNMTDMLLLFSWFITASSFSFPTIRTGTGNSSKPLARLYLLIRSLLALLQMHLCELVRTNSTYRGISNSSNCYSYRSYSSLLDFYSILSLLLTCNTSDCNGNSLHLNTCSTQVGNAHCLKVRH*CKLGSIQSYWGTSNSHRSNLSKSCATT*RHWGDG*LLG*PSILNLQI*KTLNILNLYSLPTDLP*RC*SWSPDKHLSRIYCLKLNIL*RLLLDGLNRLP*LELKRLWWNSLNDLLLRLLDLDLL*DRLAYNLHLLKRI*LILCILHSIRLKLTGALGFRLSSSRCLRFFNGAFRTTG*CACILASIC*AH*CVTACQRR*SSGCAGSGGGGRFWHSTGRSSGVGGCGN*LIPIGSPTISSSSRLANLPSPSSGSHVVYHWQS*SHSSNVNW*GCYNLSLSTRKSL*LQWY*NTRSNLDRNCLICQVLSKNIPRSCPVSSCEYSLIITCRNELNLTLQIL*R*TTSWIDLNLLTFHCLKLWNYLVLYTTTWILYLYDLKLTRGGRIT*FSFCRRCTPVITAGRTRRTRGWLRNVILF*SRRSGGNKLPSVSSKLRCYQF*LLWLILKLHQSLTWIYNNLLLSSCLIFTRSPYFAASSCQ*SQRRGLRVLGA*GFGFFIVILWLRGFPSFCSHRRCRCRLLLLLLLRSSRINRTNPQTETLG*RWVGVGARREERPVPPARGGSEEAVAGTGSASFSANGRRWA\n",
            "Secuencia de aminoácidos frame -3: G**FK*FIAAL*YT*LNETC*TQGNF**VTCNCYCRQQLVHDFISKSTKNKFYTNQHCKNVNYSPRGFAGRIIV*ILEYGKQVFFWIHLFFSFFFFYKKNLQVKCYYKTFYKEFLQNIYILPSTISVLKSLCRFNTLCCTSIYVG*QLSDMHKKTPQGIKMET*IQILLQ*NSYKIEK*DLNIMLI*V*QINFFS*ITHFYYCSHESVINDLTSSSNVISNTYTNLTKESIL*EKTILTLEFYHDKYIALH**LQ*RKVL*RW*RE*TVKCH*TRLYCTSVPYYL*QLYPTESNKGH*NLRFF*RQKSRLRMVCRTDCQNISNFSGEMCTC*HKLTYFICYKAI*IHLINL**ASLLIKK*LPFLMDIHRFALELVHGIMMQSVHTWY*QQQKVSL*GNMIKTLRKFLCIKKFIALIV*HNDR*NIYLMFQLLYNKIKMNTTKCSSVPNKTTNQF*CFKARYISC*EYIK*NIQNNLQNPT*I*RLCYKSTKALRNLKFITTV*KFFFSFNLKAFLYKLKAQKTFSFI*RYKGLA*SVHSVNSDHYSISPSSKIQETSQFWKRIRISTFPEIIENAQENTYLYSNSPQSNDVNKLSR*VKTFSFQMVNFTDYDSV*ILF*NIKYPY*YLSYWFIIQFFSYETFGHLS**DPFLAGHGGSCL*SQHSGRPRWADHLRSGV*NQPGQHGETLSLLKIQKLARHGGRRLLIPATQEAKTGESLEPGRRRLQ*AEIVPLHSSLGKRARLHLKKKKKKTLSCKTLA*TII*FFSLVTYFTENYSAFSKIKVLLHNISIIY*ANF*GKFSY*CNIKTLLCYNS*LPSYIALEIKWDWPIFSRGKQELQCS*KRIFCWPWKKV*FFLWLPHQSIKNSAHCQHNSYLQNMKLQNNLHSMQIFPNINILNEILWFNLGLGI*SILTLEHCMLRCLILFF*SYDEFCFNHFFPSIFLRCQPKI*PKI*LYVPLVSPNGESNWTSLIVCIHTTIM*W**RSEMHLRLLFWNLPNSTVEEFLTFRKDGQTIFG*FSKNQAKEIQYYPYHQLTICFLCYREKEYT*IITD*IYNKVLSKKISPIKVQPANY*GLFKHVNT*Y*EMGRFCIKVM*YISKQLQLIVWRKYFSVSSTSVCFLYFLKFNTSRVDPKPWNT*RSQE*KHNFLLCNPLDQPISRFSKVCKQVQH*RSLL*ITFQNSSMLVETLGVAGFES*EMAATVTILGEPSTSVTDESSSPEVTMARAVPPPFLFWCVLTCLER*SLRINLLEHSGHSNLFSPVWVLLCLWSSSLRVNLLPQNIQLHIKGLSPVCQRRCARK*DVLP*TLPHPSI*QICCFFFPGSLLPLPSPSLQLGQEQATLRSLLPGCTS*SEVCWPCCKCTCVSWSGLTAPIVALAIPPTATVTGAIVACWTFTPSCPCC*PATLVIVTGTPCT*TPAAPRLATLTV*RLGTDASWAVFKVIGAPATATGAI*ARVVPPLEDTGVMVNCWDNPAF*TCKFERL*IF*TCTVCQLICPEGVKVGALIST*VGFTA*S*TFCKGCCWMV*IVCPDWS*NDCGGIA*MICC*GCWIWICCKIGWPTICTC*REFD*SCAFCIPLG*S*LELWASDSVAAGV*DSSMVRSELLADVLAYWPVSAELTNVSLLVKDVEAVVVQVVEEEGDSGIVLAEVVVLVGVETN*FPLEVPLSAVAAGWPTCPVPPPAATLFITGKARVTPPMLIGRVVTT*A*VPGRVCNCSGIETPGLIWTGTV*FARF*ARIFPEAVLLAAVSIA*LLPAEMS*I*PCKSCRDELLVGLI*IC*PSTV*SCGITWYCTLPLGFCTCMT*N*PGVEELPDLVFVGDALPLLLLEELDELEAG*ETLFSFEAGGVEATSCQAFPASCVVTSSSCCG*F*SCTNP*LGSIIICCCPVA*FSPGVPILLQVAASKARGEG*ESWEPEVLGFLLLFSGSEVFPPSVAIAAAAAASSSSSFFAHPALTGQTLRRRHWDRGGWGWGRGGRRGRSRPPAVARRRL*LAQALPLFPRMAAAGL\n"
          ]
        }
      ],
      "source": [
        "from Bio import SeqIO\n",
        "from Bio.Seq import Seq\n",
        "\n",
        "\n",
        "# Lee el archivo GenBank\n",
        "with open(archivo_genbank, \"r\") as handle:\n",
        "    # Usa SeqIO para parsear el archivo GenBank\n",
        "    registros = SeqIO.parse(handle, \"genbank\")\n",
        "\n",
        "    # Itera sobre cada registro en el archivo\n",
        "    for registro in registros:\n",
        "        # Accede a la secuencia de nucleótidos\n",
        "        secuencia_nucleotidos = registro.seq\n",
        "\n",
        "        # Inicializa las variables para almacenar las secuencias de aminoácidos\n",
        "        secuencia_aminoacidos_frame_1 = \"\"\n",
        "        secuencia_aminoacidos_frame_2 = \"\"\n",
        "        secuencia_aminoacidos_frame_3 = \"\"\n",
        "        secuencia_aminoacidos_frame_minus_1 = \"\"\n",
        "        secuencia_aminoacidos_frame_minus_2 = \"\"\n",
        "        secuencia_aminoacidos_frame_minus_3 = \"\"\n",
        "\n",
        "        # Traduce la secuencia de nucleótidos a aminoácidos para cada marco de lectura\n",
        "        for i in range(3):  # Tres marcos de lectura para adelante\n",
        "            secuencia_traducida = secuencia_nucleotidos[i:].translate()\n",
        "            if i == 0:\n",
        "                secuencia_aminoacidos_frame_1 = secuencia_traducida\n",
        "            elif i == 1:\n",
        "                secuencia_aminoacidos_frame_2 = secuencia_traducida\n",
        "            elif i == 2:\n",
        "                secuencia_aminoacidos_frame_3 = secuencia_traducida\n",
        "\n",
        "        for i in range(3):  # Tres marcos de lectura para atrás\n",
        "            secuencia_traducida_inversa = secuencia_nucleotidos.reverse_complement()[i:].translate()\n",
        "            if i == 0:\n",
        "                secuencia_aminoacidos_frame_minus_1 = secuencia_traducida_inversa\n",
        "            elif i == 1:\n",
        "                secuencia_aminoacidos_frame_minus_2 = secuencia_traducida_inversa\n",
        "            elif i == 2:\n",
        "                secuencia_aminoacidos_frame_minus_3 = secuencia_traducida_inversa\n",
        "\n",
        "        # Imprime las secuencias de aminoácidos\n",
        "        print(\"Secuencia de aminoácidos frame 1:\", secuencia_aminoacidos_frame_1)\n",
        "        print(\"Secuencia de aminoácidos frame 2:\", secuencia_aminoacidos_frame_2)\n",
        "        print(\"Secuencia de aminoácidos frame 3:\", secuencia_aminoacidos_frame_3)\n",
        "        print(\"Secuencia de aminoácidos frame -1:\", secuencia_aminoacidos_frame_minus_1)\n",
        "        print(\"Secuencia de aminoácidos frame -2:\", secuencia_aminoacidos_frame_minus_2)\n",
        "        print(\"Secuencia de aminoácidos frame -3:\", secuencia_aminoacidos_frame_minus_3)"
      ]
    },
    {
      "cell_type": "code",
      "execution_count": 11,
      "metadata": {
        "colab": {
          "base_uri": "https://localhost:8080/"
        },
        "id": "DLhFZlVJ7Aq1",
        "outputId": "c3abf64f-f2b8-40a0-d744-3257a5e852e3"
      },
      "outputs": [
        {
          "output_type": "stream",
          "name": "stdout",
          "text": [
            "Secuencia de aminoácidos frame 1: MATEGGKTSEPENNNKKPKTSGSQDSQPSPLALLAATCSKIGTPGENQATGQQQIIIDPSQGLVQLQNQPQQLELVTTQLAGNAWQLVASTPPASKENNVSQPASSSSSSSSSNNGSASPTKTKSGNSSTPGQFQVIQVQNPSGSVQYQVIPQLQTVEGQQIQINPTSSSSLQDLQGQIQLISAGNNQAILTAANRTASGNILAQNLANQTVPVQIRPGVSIPLQLQTLPGTQAQVVTTLPINIGGVTLALPVINNVAAGGGTGQVGQPAATADSGTSNGNQLVSTPTNTTTSASTMPESPSSSTTCTTTASTSLTSSDTLVSSADTGQYASTSASSSERTIEESQTPAATESEAQSSSQLQPNGMQNAQDQSNSLQQVQIVGQPILQQIQIQQPQQQIIQAIPPQSFQLQSGQTIQTIQQQPLQNVQLQAVNPTQVLIRAPTLTPSGQISWQTVQVQNIQSLSNLQVQNAGLSQQLTITPVSSSGGTTLAQIAPVAVAGAPITLNTAQLASVPNLQTVSVANLGAAGVQVQGVPVTITSVAGQQQGQDGVKVQQATIAPVTVAVGGIANATIGAVSPDQLTQVHLQQGQQTSDQEVQPGKRLRRVACSCPNCREGEGRGSNEPGKKKQHICHIEGCGKVYGKTSHLRAHLRWHTGERPFICNWMFCGKRFTRSDELQRHRRTHTGEKRFECPECSKRFMRSDHLSKHVKTHQNKKGGGTALAIVTSGELDSSVTEVLGSPRIVTVAAISQDSNPATPNVSTNMEEF*\n",
            "Secuencia de aminoácidos frame 2: WLQKEGKPLSQRITIKNPKPQAPRTLSPLLWLYWQLLAAK*GLLVKIKQLDNNKLL*IQVKDWCNFKINHNS*NW*QRNLLETLGNLLPPLLLLQKRITFLNQPLVRLVLPAVITGVHLLQKLNQVILPPLVNFKSYKYKIQVVVYSTK*FHNFRQWKVNKFKSIQLVVHLYRICRVKFSSFLQVIIKLYSQLLTGQLLGIFLLKTWQIRQFRSKLDLVFQYHCSYRLFLVLRLKL*QPYQLTLEE*L*LCQ**TTWLPEEGLGRLASLLLLLIVGLPMGIN*FPHPPTPLLLPVLCQNLPPPPLPAQPLLQRL*QAVTH**AQQILASMQAHQPVVLNAPLKNLKHLLLLSLKPRAPVSFSLMECRMHRINQILFSRCKL*ANLSYSRSRSNSLSNRSFRLFHHSRFNSSQGRRFRPSSSSLYRMFNFKQ*IRLRCLSGLQL*HLQGKSVGKLYRFRIFRVFQICKFRMLGYPNN*PSPQCLQVVAQLLLRLLLWLLLVPQ*L*ILPSLHQCLTFRQ*ALPTWVLQVFKCREFPLQSLVLQVSSKDKME*KSSKLL*LL*L*QLEELLMPR*VLLVLTNSHKCICSKASRLLIKRYNLARGFEELPVPVLIVGKEKEEAVMNQEKRSSISVILKDVVKFMAKHLIYEHIFAGILEKDLLYATGCFVAKDSHGVMSSRDIEEPIQVKRDLNARNVLKGLCGVIISPNMSKRTRIKKVVGQLLPLLPRENWTHLLQRCLAPQELSQLQPFLKIRIQQLPMFQPTWKNS\n",
            "Secuencia de aminoácidos frame 3: GYRRRENL*ARE*Q*KTQNLRLPGLSALSSGFTGSYLQQNRDSW*KSSNWTTTNYYRSKSRIGATSKSTTTARTGNNATCWKRLATCCLHSSCFKRE*RFSTSL*FV*FFQQ**RECISYKN*IR*FFHPWSISSHTSTKSKW*CTVPSNSTTSDSGRSTNSNQSN**FISTGFAGSNSAHFCR**SSYTHSC*QDSFWEYSCSKPGKSDSSGPN*TWCFNTTAVTDSSWYSGSSCNNPTN*HWRSDSSFASDKQRGCRRRDWAGWPACCYC**WDFQWESISFHTHQHHYFCQYYARISLLLHYLHNHCFNVFDKQ*HISELSRYWPVCKHISQ*F*THH*RISNTCCY*V*SPELQSASA*WNAECTGSIKFSSAGANCRPTYLTADPDPTASATDHSGYSTTVVSTPVRADDSDHPAAAFTECSTSSSKSDSGAYQGSNFNTFRANQLANCTGSEYSESFKFASSECWVIPTINHHPSVFKWWHNSCSDCSCGCCWCPNNFEYCPACISA*PSDSERCQPGCCRCSSAGSSRYNH*CCRSAARTRWSKSPASYYSSCNCSSWRNC*CHDRCC*S*PTHTSAFAARPADF*SRGTTWQEASKSCLFLS*L*GRRRKRQ**TRKKEAAYLSY*RMW*SLWQNISFTSTSSLAYWRKTFYMQLDVLWQKIHTE**APET*KNPYR*KEI*MPGMF*KVYAE*SSLQTCQNAPE*KRWWDSSCHCYLGRTGLICYRGAWLPKNCHSCSHFSRFESSNSQCFNQHGRIL\n",
            "Secuencia de aminoácidos frame -1: SEFFHVG*NIGSCWIRILRNGCNCDNSWGAKHLCNR*VQFSRGNNGKSCPTTFFILVRFDMFGEMITPHKPFRTFRAFKSLFTCMGSSMSLELITPCESFATKHPVAYKRSFSSMPAKMCS*MRCFAINFTTSFNMTDMLLLFSWFITASSFSFPTIRTGTGNSSKPLARLYLLIRSLLALLQMHLCELVRTNSTYRGISNSSNCYSYRSYSSLLDFYSILSLLLTCNTSDCNGNSLHLNTCSTQVGNAHCLKVRH*CKLGSIQSYWGTSNSHRSNLSKSCATT*RHWGDG*LLG*PSILNLQI*KTLNILNLYSLPTDLP*RC*SWSPDKHLSRIYCLKLNIL*RLLLDGLNRLP*LELKRLWWNSLNDLLLRLLDLDLL*DRLAYNLHLLKRI*LILCILHSIRLKLTGALGFRLSSSRCLRFFNGAFRTTG*CACILASIC*AH*CVTACQRR*SSGCAGSGGGGRFWHSTGRSSGVGGCGN*LIPIGSPTISSSSRLANLPSPSSGSHVVYHWQS*SHSSNVNW*GCYNLSLSTRKSL*LQWY*NTRSNLDRNCLICQVLSKNIPRSCPVSSCEYSLIITCRNELNLTLQIL*R*TTSWIDLNLLTFHCLKLWNYLVLYTTTWILYLYDLKLTRGGRIT*FSFCRRCTPVITAGRTRRTRGWLRNVILF*SRRSGGNKLPSVSSKLRCYQF*LLWLILKLHQSLTWIYNNLLLSSCLIFTRSPYFAASSCQ*SQRRGLRVLGA*GFGFFIVILWLRGFPSFCSH\n",
            "Secuencia de aminoácidos frame -2: QNSSMLVETLGVAGFES*EMAATVTILGEPSTSVTDESSSPEVTMARAVPPPFLFWCVLTCLER*SLRINLLEHSGHSNLFSPVWVLLCLWSSSLRVNLLPQNIQLHIKGLSPVCQRRCARK*DVLP*TLPHPSI*QICCFFFPGSLLPLPSPSLQLGQEQATLRSLLPGCTS*SEVCWPCCKCTCVSWSGLTAPIVALAIPPTATVTGAIVACWTFTPSCPCC*PATLVIVTGTPCT*TPAAPRLATLTV*RLGTDASWAVFKVIGAPATATGAI*ARVVPPLEDTGVMVNCWDNPAF*TCKFERL*IF*TCTVCQLICPEGVKVGALIST*VGFTA*S*TFCKGCCWMV*IVCPDWS*NDCGGIA*MICC*GCWIWICCKIGWPTICTC*REFD*SCAFCIPLG*S*LELWASDSVAAGV*DSSMVRSELLADVLAYWPVSAELTNVSLLVKDVEAVVVQVVEEEGDSGIVLAEVVVLVGVETN*FPLEVPLSAVAAGWPTCPVPPPAATLFITGKARVTPPMLIGRVVTT*A*VPGRVCNCSGIETPGLIWTGTV*FARF*ARIFPEAVLLAAVSIA*LLPAEMS*I*PCKSCRDELLVGLI*IC*PSTV*SCGITWYCTLPLGFCTCMT*N*PGVEELPDLVFVGDALPLLLLEELDELEAG*ETLFSFEAGGVEATSCQAFPASCVVTSSSCCG*F*SCTNP*LGSIIICCCPVA*FSPGVPILLQVAASKARGEG*ESWEPEVLGFLLLFSGSEVFPPSVA\n",
            "Secuencia de aminoácidos frame -3: RILPCWLKHWELLDSNLEKWLQL*QFLGSQAPL*QMSPVLPR*QWQELSHHLFYSGAF*HVWRDDHSA*TF*NIPGIQISFHLYGFFYVSGAHHSV*IFCHKTSSCI*KVFLQYASEDVLVNEMFCHKLYHILQYDRYAASFFLVHYCLFLLLPYN*DRNRQLFEASCQVVPLDQKSAGLAANALV*VGQD*QHLSWH*QFLQLLQLQEL**LAGLLLHLVLAADLQH**L*RELPALEHLQHPGWQRSLSEG*ALMQAGQYSKLLGHQQQPQEQSEQELCHHLKTLG*WLIVGITQHSELANLKDSEYSEPVQFAN*FALKVLKLEP**APESDLLLEVEHSVKAAAGWSESSALTGVETTVVE*PE*SVAEAVGSGSAVR*VGLQFAPAEENLIDPVHSAFH*AEADWSSGLQTQ*QQVFEILQWCVQNYWLMCLHTGQYLLSSLMCHCLSKTLKQWLCR*WRRREILA*YWQK*WCWWVWKLIDSHWKSHYQQ*QQAGQPAQSLLRQPRCLSLAKLESLLQC*LVGLLQLEPEYQEESVTAVVLKHQV*FGPELSDLPGFEQEYSQKLSC*QL*V*LDYYLQK*AEFDPANPVEMNY*LD*FEFVDLPLSEVVELLGTVHYHLDFVLV*LEIDQGWKNYLI*FL*EMHSRYYCWKN*TN*RLVEKRYSLLKQEEWRQQVAKRFQQVALLPVLAVVVDFEVAPILDLDL**FVVVQLLDFHQESLFCCK*LPVKPEERAESPGSLRFWVFYCYSLAQRFSLLL*P\n"
          ]
        }
      ],
      "source": [
        "# Lee el archivo GenBank\n",
        "with open(archivo_genbank, \"r\") as handle:\n",
        "    # Usa SeqIO para parsear el archivo GenBank\n",
        "    registros = SeqIO.parse(handle, \"genbank\")\n",
        "\n",
        "    # Itera sobre cada registro en el archivo\n",
        "    for registro in registros:\n",
        "        # Busca la región codificante en las características (features)\n",
        "        for feature in registro.features:\n",
        "            if feature.type == \"CDS\":  # Si es una región codificante\n",
        "                inicio = feature.location.start\n",
        "                final = feature.location.end\n",
        "                secuencia_nucleotidos = registro.seq[inicio:final]\n",
        "\n",
        "                # Inicializa las variables para almacenar las secuencias de aminoácidos\n",
        "                secuencia_aminoacidos_frame_1 = \"\"\n",
        "                secuencia_aminoacidos_frame_2 = \"\"\n",
        "                secuencia_aminoacidos_frame_3 = \"\"\n",
        "                secuencia_aminoacidos_frame_minus_1 = \"\"\n",
        "                secuencia_aminoacidos_frame_minus_2 = \"\"\n",
        "                secuencia_aminoacidos_frame_minus_3 = \"\"\n",
        "\n",
        "                # Traduce la secuencia de nucleótidos a aminoácidos para cada marco de lectura\n",
        "                for i in range(3):  # Tres marcos de lectura para adelante\n",
        "                    secuencia_traducida = secuencia_nucleotidos[i:].translate()\n",
        "                    if i == 0:\n",
        "                        secuencia_aminoacidos_frame_1 = secuencia_traducida\n",
        "                    elif i == 1:\n",
        "                        secuencia_aminoacidos_frame_2 = secuencia_traducida\n",
        "                    elif i == 2:\n",
        "                        secuencia_aminoacidos_frame_3 = secuencia_traducida\n",
        "\n",
        "                for i in range(3):  # Tres marcos de lectura para atrás\n",
        "                    secuencia_traducida_inversa = secuencia_nucleotidos.reverse_complement()[i:].translate()\n",
        "                    if i == 0:\n",
        "                        secuencia_aminoacidos_frame_minus_1 = secuencia_traducida_inversa\n",
        "                    elif i == 1:\n",
        "                        secuencia_aminoacidos_frame_minus_2 = secuencia_traducida_inversa\n",
        "                    elif i == 2:\n",
        "                        secuencia_aminoacidos_frame_minus_3 = secuencia_traducida_inversa\n",
        "\n",
        "                # Imprime las secuencias de aminoácidos\n",
        "                print(\"Secuencia de aminoácidos frame 1:\", secuencia_aminoacidos_frame_1)\n",
        "                print(\"Secuencia de aminoácidos frame 2:\", secuencia_aminoacidos_frame_2)\n",
        "                print(\"Secuencia de aminoácidos frame 3:\", secuencia_aminoacidos_frame_3)\n",
        "                print(\"Secuencia de aminoácidos frame -1:\", secuencia_aminoacidos_frame_minus_1)\n",
        "                print(\"Secuencia de aminoácidos frame -2:\", secuencia_aminoacidos_frame_minus_2)\n",
        "                print(\"Secuencia de aminoácidos frame -3:\", secuencia_aminoacidos_frame_minus_3)"
      ]
    },
    {
      "cell_type": "markdown",
      "source": [
        "**El primer codigo es sobre toda la secuencia. El segundo es sobre la region codificante. Hay que ver aca cual es la correcta a usar.**"
      ],
      "metadata": {
        "id": "zPcucMFF851I"
      }
    },
    {
      "cell_type": "code",
      "source": [
        "from Bio.SeqRecord import SeqRecord\n",
        "\n",
        "ruta_guardado = \"/content/drive/My Drive/Bioinformatica/Fasta_outs\"\n",
        "\n",
        "# Crear y guardar las secuencias de aminoácidos en archivos FASTA\n",
        "for i, secuencia in enumerate([secuencia_aminoacidos_frame_1, secuencia_aminoacidos_frame_2, secuencia_aminoacidos_frame_3,\n",
        "                                secuencia_aminoacidos_frame_minus_1, secuencia_aminoacidos_frame_minus_2, secuencia_aminoacidos_frame_minus_3]):\n",
        "\n",
        "    nombre_archivo = f\"frame_{i+1}.fasta\" if i < 3 else f\"frame_minus_{i-2}.fasta\"\n",
        "    ruta_completa = os.path.join(ruta_guardado, nombre_archivo)\n",
        "    with open(ruta_completa, \"w\") as output_handle:\n",
        "        secuencia_record = SeqRecord(Seq(secuencia), id=f\"Frame_{i+1}\" if i < 3 else f\"Frame_minus_{i-2}\", description=\"\")\n",
        "        SeqIO.write(secuencia_record, output_handle, \"fasta\")\n",
        "        print(f\"Se ha guardado la secuencia en {nombre_archivo}\")"
      ],
      "metadata": {
        "colab": {
          "base_uri": "https://localhost:8080/"
        },
        "id": "o7EgiOmoPjR5",
        "outputId": "4214fcc5-c035-41b7-bd4e-ff1fa8aac1ca"
      },
      "execution_count": 16,
      "outputs": [
        {
          "output_type": "stream",
          "name": "stdout",
          "text": [
            "Se ha guardado la secuencia en frame_1.fasta\n",
            "Se ha guardado la secuencia en frame_2.fasta\n",
            "Se ha guardado la secuencia en frame_3.fasta\n",
            "Se ha guardado la secuencia en frame_minus_1.fasta\n",
            "Se ha guardado la secuencia en frame_minus_2.fasta\n",
            "Se ha guardado la secuencia en frame_minus_3.fasta\n"
          ]
        }
      ]
    },
    {
      "cell_type": "markdown",
      "source": [
        "## Ejercicio 2"
      ],
      "metadata": {
        "id": "QYiYF0w59PmX"
      }
    },
    {
      "cell_type": "code",
      "execution_count": 13,
      "metadata": {
        "colab": {
          "base_uri": "https://localhost:8080/"
        },
        "id": "4gajvVOC7Aq2",
        "outputId": "082e415f-5878-47c0-8fbd-a2a0e912c732"
      },
      "outputs": [
        {
          "output_type": "stream",
          "name": "stdout",
          "text": [
            "Búsqueda BLAST frame 1 completada. El reporte se ha guardado en 'blast_reporte_frame_1.out'.\n",
            "Búsqueda BLAST frame 2 completada. El reporte se ha guardado en 'blast_reporte_frame_2.out'.\n",
            "Búsqueda BLAST frame 3 completada. El reporte se ha guardado en 'blast_reporte_frame_3.out'.\n",
            "Búsqueda BLAST frame 4 completada. El reporte se ha guardado en 'blast_reporte_frame_4.out'.\n",
            "Búsqueda BLAST frame 5 completada. El reporte se ha guardado en 'blast_reporte_frame_5.out'.\n",
            "Búsqueda BLAST frame 6 completada. El reporte se ha guardado en 'blast_reporte_frame_6.out'.\n"
          ]
        }
      ],
      "source": [
        "from Bio.Blast import NCBIWWW\n",
        "\n",
        "# Supongamos que tienes las secuencias guardadas en las siguientes variables:\n",
        "secuencias_aminoacidos = [\n",
        "    secuencia_aminoacidos_frame_1,\n",
        "    secuencia_aminoacidos_frame_2,\n",
        "    secuencia_aminoacidos_frame_3,\n",
        "    secuencia_aminoacidos_frame_minus_1,\n",
        "    secuencia_aminoacidos_frame_minus_2,\n",
        "    secuencia_aminoacidos_frame_minus_3\n",
        "]\n",
        "\n",
        "# Especifica la ruta al directorio en tu Google Drive donde deseas guardar el archivo\n",
        "ruta_guardado = \"/content/drive/My Drive/Bioinformatica/Blast_outs\"\n",
        "\n",
        "# Itera sobre las variables de las secuencias\n",
        "for i, secuencia_aminoacidos in enumerate(secuencias_aminoacidos, start=1):\n",
        "\n",
        "    nombre_archivo = f\"blast_reporte_frame_{i}.out\"\n",
        "    ruta_completa = os.path.join(ruta_guardado, nombre_archivo)\n",
        "\n",
        "    # Realiza una búsqueda BLAST de la secuencia de aminoácidos\n",
        "    resultados_blast = NCBIWWW.qblast(\"blastp\", \"nr\", secuencia_aminoacidos)\n",
        "\n",
        "    # Guarda los resultados en un archivo de salida\n",
        "    with open(ruta_completa, \"w\") as output_file:\n",
        "        output_file.write(resultados_blast.read())\n",
        "\n",
        "    print(f\"Búsqueda BLAST frame {i} completada. El reporte se ha guardado en 'blast_reporte_frame_{i}.out'.\")"
      ]
    },
    {
      "cell_type": "code",
      "execution_count": null,
      "metadata": {
        "id": "VjhHtx2v7Aq2"
      },
      "outputs": [],
      "source": []
    },
    {
      "cell_type": "code",
      "execution_count": null,
      "metadata": {
        "id": "cXo8Mpng7Aq3"
      },
      "outputs": [],
      "source": []
    },
    {
      "cell_type": "code",
      "execution_count": null,
      "metadata": {
        "id": "OPvUACAV7Aq3"
      },
      "outputs": [],
      "source": []
    },
    {
      "cell_type": "code",
      "execution_count": null,
      "metadata": {
        "id": "gL0oaw5L7Aq3"
      },
      "outputs": [],
      "source": []
    },
    {
      "cell_type": "code",
      "execution_count": null,
      "metadata": {
        "id": "G28-TqqJ7Aq4"
      },
      "outputs": [],
      "source": []
    }
  ],
  "metadata": {
    "kernelspec": {
      "display_name": "Python 3.10.8 ('.env_bio': venv)",
      "language": "python",
      "name": "python3"
    },
    "language_info": {
      "codemirror_mode": {
        "name": "ipython",
        "version": 3
      },
      "file_extension": ".py",
      "mimetype": "text/x-python",
      "name": "python",
      "nbconvert_exporter": "python",
      "pygments_lexer": "ipython3",
      "version": "3.10.8"
    },
    "orig_nbformat": 4,
    "vscode": {
      "interpreter": {
        "hash": "0df084f53560f276cc7ec67dd11b2de4eab01f26a518bbc359af3294ec4e82d1"
      }
    },
    "colab": {
      "provenance": []
    }
  },
  "nbformat": 4,
  "nbformat_minor": 0
}